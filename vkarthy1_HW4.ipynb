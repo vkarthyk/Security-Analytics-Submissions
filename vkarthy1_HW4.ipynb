{
 "cells": [
  {
   "cell_type": "markdown",
   "metadata": {},
   "source": [
    "# Homework 4: Clustering\n",
    "\n",
    "## Data\n",
    "\n",
    "We will use a data set about beer for our clustering homework."
   ]
  },
  {
   "cell_type": "code",
   "execution_count": 2,
   "metadata": {
    "collapsed": false
   },
   "outputs": [],
   "source": [
    "# beer dataset\n",
    "import pandas as pd\n",
    "beer = pd.read_csv('data/beer.txt', sep=' ')"
   ]
  },
  {
   "cell_type": "code",
   "execution_count": 3,
   "metadata": {
    "collapsed": false
   },
   "outputs": [],
   "source": [
    "# define X\n",
    "X = beer.drop('name', axis=1)\n",
    "column_list = list(X.columns.values)"
   ]
  },
  {
   "cell_type": "markdown",
   "metadata": {},
   "source": [
    "**Note**\n",
    "\n",
    "We don't need a Y as our target variable, because clustering is an unsupervised learning, "
   ]
  },
  {
   "cell_type": "markdown",
   "metadata": {},
   "source": [
    "** Standardize the data **\n",
    "\n",
    "Standardization of a dataset is a common requirement for many machine learning estimators. sk-learn provides a convenient function \"StandardScaler\" for this purpose: it standardize features by removing the mean and scaling to unit variance."
   ]
  },
  {
   "cell_type": "code",
   "execution_count": 4,
   "metadata": {
    "collapsed": false
   },
   "outputs": [],
   "source": [
    "# center and scale the data\n",
    "from sklearn.preprocessing import StandardScaler\n",
    "scaler = StandardScaler()\n",
    "X = scaler.fit_transform(X)\n",
    "data = pd.DataFrame(X, columns=column_list)"
   ]
  },
  {
   "cell_type": "markdown",
   "metadata": {},
   "source": [
    "## K-means clustering\n",
    "\n",
    "### Task 1: use the K-means algorithm to make 3 (k=3) clusters of the beer data.\n",
    "\n",
    "Question 1.1: What do the clusters seem to be based on? Why?"
   ]
  },
  {
   "cell_type": "code",
   "execution_count": 68,
   "metadata": {
    "collapsed": false
   },
   "outputs": [
    {
     "name": "stdout",
     "output_type": "stream",
     "text": [
      "Cluster 1\n"
     ]
    },
    {
     "data": {
      "text/html": [
       "<div>\n",
       "<table border=\"1\" class=\"dataframe\">\n",
       "  <thead>\n",
       "    <tr style=\"text-align: right;\">\n",
       "      <th></th>\n",
       "      <th>calories</th>\n",
       "      <th>sodium</th>\n",
       "      <th>alcohol</th>\n",
       "      <th>cost</th>\n",
       "    </tr>\n",
       "  </thead>\n",
       "  <tbody>\n",
       "    <tr>\n",
       "      <th>0</th>\n",
       "      <td>0.387913</td>\n",
       "      <td>0.007795</td>\n",
       "      <td>0.433808</td>\n",
       "      <td>-0.456830</td>\n",
       "    </tr>\n",
       "    <tr>\n",
       "      <th>1</th>\n",
       "      <td>0.625066</td>\n",
       "      <td>0.631369</td>\n",
       "      <td>0.622420</td>\n",
       "      <td>-0.456830</td>\n",
       "    </tr>\n",
       "    <tr>\n",
       "      <th>2</th>\n",
       "      <td>0.421792</td>\n",
       "      <td>1.254943</td>\n",
       "      <td>0.339502</td>\n",
       "      <td>-1.519224</td>\n",
       "    </tr>\n",
       "    <tr>\n",
       "      <th>3</th>\n",
       "      <td>1.438159</td>\n",
       "      <td>1.410837</td>\n",
       "      <td>1.188256</td>\n",
       "      <td>-0.669309</td>\n",
       "    </tr>\n",
       "    <tr>\n",
       "      <th>4</th>\n",
       "      <td>0.557308</td>\n",
       "      <td>1.878518</td>\n",
       "      <td>0.433808</td>\n",
       "      <td>-0.527656</td>\n",
       "    </tr>\n",
       "    <tr>\n",
       "      <th>5</th>\n",
       "      <td>0.252398</td>\n",
       "      <td>0.475475</td>\n",
       "      <td>0.339502</td>\n",
       "      <td>-0.386003</td>\n",
       "    </tr>\n",
       "    <tr>\n",
       "      <th>6</th>\n",
       "      <td>0.218519</td>\n",
       "      <td>0.631369</td>\n",
       "      <td>0.150890</td>\n",
       "      <td>-0.456830</td>\n",
       "    </tr>\n",
       "    <tr>\n",
       "      <th>7</th>\n",
       "      <td>0.387913</td>\n",
       "      <td>1.410837</td>\n",
       "      <td>0.622420</td>\n",
       "      <td>-0.456830</td>\n",
       "    </tr>\n",
       "  </tbody>\n",
       "</table>\n",
       "</div>"
      ],
      "text/plain": [
       "   calories    sodium   alcohol      cost\n",
       "0  0.387913  0.007795  0.433808 -0.456830\n",
       "1  0.625066  0.631369  0.622420 -0.456830\n",
       "2  0.421792  1.254943  0.339502 -1.519224\n",
       "3  1.438159  1.410837  1.188256 -0.669309\n",
       "4  0.557308  1.878518  0.433808 -0.527656\n",
       "5  0.252398  0.475475  0.339502 -0.386003\n",
       "6  0.218519  0.631369  0.150890 -0.456830\n",
       "7  0.387913  1.410837  0.622420 -0.456830"
      ]
     },
     "metadata": {},
     "output_type": "display_data"
    },
    {
     "name": "stdout",
     "output_type": "stream",
     "text": [
      "\n",
      "\n",
      "Cluster 2\n"
     ]
    },
    {
     "data": {
      "text/html": [
       "<div>\n",
       "<table border=\"1\" class=\"dataframe\">\n",
       "  <thead>\n",
       "    <tr style=\"text-align: right;\">\n",
       "      <th></th>\n",
       "      <th>calories</th>\n",
       "      <th>sodium</th>\n",
       "      <th>alcohol</th>\n",
       "      <th>cost</th>\n",
       "    </tr>\n",
       "  </thead>\n",
       "  <tbody>\n",
       "    <tr>\n",
       "      <th>0</th>\n",
       "      <td>0.828339</td>\n",
       "      <td>0.007795</td>\n",
       "      <td>-3.149822</td>\n",
       "      <td>-0.102698</td>\n",
       "    </tr>\n",
       "    <tr>\n",
       "      <th>1</th>\n",
       "      <td>-1.136637</td>\n",
       "      <td>-0.771673</td>\n",
       "      <td>0.056584</td>\n",
       "      <td>-0.456830</td>\n",
       "    </tr>\n",
       "    <tr>\n",
       "      <th>2</th>\n",
       "      <td>-0.662332</td>\n",
       "      <td>-1.083460</td>\n",
       "      <td>-0.509253</td>\n",
       "      <td>-0.669309</td>\n",
       "    </tr>\n",
       "    <tr>\n",
       "      <th>3</th>\n",
       "      <td>-1.035000</td>\n",
       "      <td>0.007795</td>\n",
       "      <td>-0.132028</td>\n",
       "      <td>-0.244351</td>\n",
       "    </tr>\n",
       "    <tr>\n",
       "      <th>4</th>\n",
       "      <td>0.083003</td>\n",
       "      <td>-0.615780</td>\n",
       "      <td>-0.037722</td>\n",
       "      <td>0.038954</td>\n",
       "    </tr>\n",
       "    <tr>\n",
       "      <th>5</th>\n",
       "      <td>-2.186883</td>\n",
       "      <td>0.007795</td>\n",
       "      <td>-1.829537</td>\n",
       "      <td>-0.810961</td>\n",
       "    </tr>\n",
       "    <tr>\n",
       "      <th>6</th>\n",
       "      <td>-2.051367</td>\n",
       "      <td>-1.395248</td>\n",
       "      <td>-1.263701</td>\n",
       "      <td>-0.244351</td>\n",
       "    </tr>\n",
       "    <tr>\n",
       "      <th>7</th>\n",
       "      <td>-1.204395</td>\n",
       "      <td>-1.239354</td>\n",
       "      <td>-0.037722</td>\n",
       "      <td>-0.173524</td>\n",
       "    </tr>\n",
       "  </tbody>\n",
       "</table>\n",
       "</div>"
      ],
      "text/plain": [
       "   calories    sodium   alcohol      cost\n",
       "0  0.828339  0.007795 -3.149822 -0.102698\n",
       "1 -1.136637 -0.771673  0.056584 -0.456830\n",
       "2 -0.662332 -1.083460 -0.509253 -0.669309\n",
       "3 -1.035000  0.007795 -0.132028 -0.244351\n",
       "4  0.083003 -0.615780 -0.037722  0.038954\n",
       "5 -2.186883  0.007795 -1.829537 -0.810961\n",
       "6 -2.051367 -1.395248 -1.263701 -0.244351\n",
       "7 -1.204395 -1.239354 -0.037722 -0.173524"
      ]
     },
     "metadata": {},
     "output_type": "display_data"
    },
    {
     "name": "stdout",
     "output_type": "stream",
     "text": [
      "\n",
      "\n",
      "Cluster 3\n"
     ]
    },
    {
     "data": {
      "text/html": [
       "<div>\n",
       "<table border=\"1\" class=\"dataframe\">\n",
       "  <thead>\n",
       "    <tr style=\"text-align: right;\">\n",
       "      <th></th>\n",
       "      <th>calories</th>\n",
       "      <th>sodium</th>\n",
       "      <th>alcohol</th>\n",
       "      <th>cost</th>\n",
       "    </tr>\n",
       "  </thead>\n",
       "  <tbody>\n",
       "    <tr>\n",
       "      <th>0</th>\n",
       "      <td>1.268765</td>\n",
       "      <td>-1.239354</td>\n",
       "      <td>0.905338</td>\n",
       "      <td>1.667960</td>\n",
       "    </tr>\n",
       "    <tr>\n",
       "      <th>1</th>\n",
       "      <td>0.658944</td>\n",
       "      <td>-0.615780</td>\n",
       "      <td>0.716726</td>\n",
       "      <td>1.951265</td>\n",
       "    </tr>\n",
       "    <tr>\n",
       "      <th>2</th>\n",
       "      <td>0.591187</td>\n",
       "      <td>0.631369</td>\n",
       "      <td>0.433808</td>\n",
       "      <td>1.880438</td>\n",
       "    </tr>\n",
       "    <tr>\n",
       "      <th>3</th>\n",
       "      <td>0.557308</td>\n",
       "      <td>-1.395248</td>\n",
       "      <td>0.716726</td>\n",
       "      <td>2.092917</td>\n",
       "    </tr>\n",
       "  </tbody>\n",
       "</table>\n",
       "</div>"
      ],
      "text/plain": [
       "   calories    sodium   alcohol      cost\n",
       "0  1.268765 -1.239354  0.905338  1.667960\n",
       "1  0.658944 -0.615780  0.716726  1.951265\n",
       "2  0.591187  0.631369  0.433808  1.880438\n",
       "3  0.557308 -1.395248  0.716726  2.092917"
      ]
     },
     "metadata": {},
     "output_type": "display_data"
    },
    {
     "name": "stdout",
     "output_type": "stream",
     "text": [
      "\n",
      "\n"
     ]
    }
   ],
   "source": [
    "from sklearn.cluster import KMeans\n",
    "import numpy as np\n",
    "from dstools import data_tools\n",
    "from IPython.display import display, HTML\n",
    "from scipy.spatial.distance import cosine\n",
    "from scipy.spatial.distance import pdist, squareform\n",
    "\n",
    "k_clusters = 3\n",
    "\n",
    "# Fit and predict clusters\n",
    "model = KMeans(k_clusters)\n",
    "model.fit(X)\n",
    "clusters = model.predict(X)\n",
    "centers = model.cluster_centers_\n",
    "\n",
    "# Do some messy stuff to print a nice table of clusters\n",
    "cluster_listing = {}\n",
    "for cluster in range(k_clusters):\n",
    "    cluster_listing['Cluster ' + str(cluster)] = [''] * 20\n",
    "    where_in_cluster = np.where(clusters == cluster)[0]\n",
    "    cluster_listing['Cluster ' + str(cluster)]= where_in_cluster\n",
    "    cluster_listing['Cluster ' + str(cluster)][0:len(where_in_cluster)] = data.index[where_in_cluster]\n",
    "    \n",
    "    List = []\n",
    "    for index in cluster_listing['Cluster ' + str(cluster)]:\n",
    "        List.append(list(data.iloc[index]))    \n",
    "        \n",
    "    print 'Cluster ' + str(cluster+1)\n",
    "    df=pd.DataFrame(List,columns=column_list)\n",
    "    display(df)\n",
    "    \n",
    "    print '\\n'\n"
   ]
  },
  {
   "cell_type": "markdown",
   "metadata": {},
   "source": [
    "The clusters seem to be first based on the cost of the beer. Because cluster 3 has all positive costs whereas other clusters have negative costs. After this the clusters seem to be based on the other features like clories, sodium and alcohol as Cluster 1 has all positive values whereas, cluster 2 as some negative values for each of these features."
   ]
  },
  {
   "cell_type": "markdown",
   "metadata": {},
   "source": [
    "### Task 2: Plot all data points on scatter charts. Each chart displays data on two attributes, so there will be 6 charts in total. Use different colors for clusters. Also plot cluster centers with a different symbol from beer data points. "
   ]
  },
  {
   "cell_type": "code",
   "execution_count": 66,
   "metadata": {
    "collapsed": false
   },
   "outputs": [
    {
     "data": {
      "image/png": "[encoded data removed]",
      "text/plain": [
       "<matplotlib.figure.Figure at 0x7f3d6a6a62d0>"
      ]
     },
     "metadata": {},
     "output_type": "display_data"
    },
    {
     "data": {
      "image/png": "[encoded data removed]",
      "text/plain": [
       "<matplotlib.figure.Figure at 0x7f3d6a8c2750>"
      ]
     },
     "metadata": {},
     "output_type": "display_data"
    },
    {
     "data": {
      "image/png": "[encoded data removed]",
      "text/plain": [
       "<matplotlib.figure.Figure at 0x7f3d695e4e50>"
      ]
     },
     "metadata": {},
     "output_type": "display_data"
    },
    {
     "data": {
      "image/png": "[encoded data removed]",
      "text/plain": [
       "<matplotlib.figure.Figure at 0x7f3d696cd350>"
      ]
     },
     "metadata": {},
     "output_type": "display_data"
    },
    {
     "data": {
      "image/png": "[encoded data removed]",
      "text/plain": [
       "<matplotlib.figure.Figure at 0x7f3d694dafd0>"
      ]
     },
     "metadata": {},
     "output_type": "display_data"
    },
    {
     "data": {
      "image/png": "[encoded data removed]",
      "text/plain": [
       "<matplotlib.figure.Figure at 0x7f3d6a3d0c90>"
      ]
     },
     "metadata": {},
     "output_type": "display_data"
    }
   ],
   "source": [
    "import seaborn\n",
    "%matplotlib inline\n",
    "import matplotlib.pyplot as plt\n",
    "from matplotlib import markers\n",
    "from pandas.tools.plotting import scatter_matrix\n",
    "\n",
    "for i in range(0,4):\n",
    "    for j in range (i+1, 4):\n",
    "        plt.rcParams['figure.figsize'] = 6, 4\n",
    "        \n",
    "        #Plot all data points on scatter chart\n",
    "        plt.scatter(X[:, i], X[:, j], color=data_tools.colorizer(clusters))\n",
    "        \n",
    "        #plot cluster centers with a different symbol\n",
    "        plt.scatter(centers[0][i], centers[0][j], marker='x', color = 'red')\n",
    "        plt.scatter(centers[1][i], centers[1][j], marker='D', color = 'black')\n",
    "        plt.scatter(centers[2][i], centers[2][j], marker='s', color = 'magenta')\n",
    "        \n",
    "        #Set axis labels\n",
    "        plt.xlabel(data.columns.values[i])\n",
    "        plt.ylabel(data.columns.values[j])\n",
    "        plt.show()"
   ]
  },
  {
   "cell_type": "markdown",
   "metadata": {},
   "source": [
    "## Clustering evaluation\n",
    "\n",
    "The [Silhouette Coefficient](http://scikit-learn.org/stable/modules/clustering.html#silhouette-coefficient) is a common metric for evaluating clustering \"performance\" in situations when the \"true\" cluster assignments are not known.\n",
    "\n",
    "A Silhouette Coefficient is calculated for **each observation**:\n",
    "\n",
    "$$SC = \\frac{b-a} {max(a, b)}$$\n",
    "\n",
    "- a = mean distance to all other points in **its cluster**\n",
    "- b = mean distance to all other points in **the next nearest cluster**\n",
    "\n",
    "It ranges from -1 (worst) to 1 (best). A **global score** is calculated by taking the mean score for all observations."
   ]
  },
  {
   "cell_type": "markdown",
   "metadata": {},
   "source": [
    "## Task 3: compute Silhouette coefficients for k-means models with k=2 to 19. Plot the results with a line chart. What k value do you think the optimal?"
   ]
  },
  {
   "cell_type": "code",
   "execution_count": 67,
   "metadata": {
    "collapsed": false
   },
   "outputs": [
    {
     "name": "stdout",
     "output_type": "stream",
     "text": [
      "With k = 2, the silhouette score is: 0.330715\n",
      "With k = 3, the silhouette score is: 0.457774\n",
      "With k = 4, the silhouette score is: 0.475464\n",
      "With k = 5, the silhouette score is: 0.444066\n",
      "With k = 6, the silhouette score is: 0.365390\n",
      "With k = 7, the silhouette score is: 0.339076\n",
      "With k = 8, the silhouette score is: 0.307629\n",
      "With k = 9, the silhouette score is: 0.269898\n",
      "With k = 10, the silhouette score is: 0.267205\n",
      "With k = 11, the silhouette score is: 0.254959\n",
      "With k = 12, the silhouette score is: 0.268134\n",
      "With k = 13, the silhouette score is: 0.258062\n",
      "With k = 14, the silhouette score is: 0.195104\n",
      "With k = 15, the silhouette score is: 0.183978\n",
      "With k = 16, the silhouette score is: 0.123329\n",
      "With k = 17, the silhouette score is: 0.132725\n",
      "With k = 18, the silhouette score is: 0.097954\n",
      "With k = 19, the silhouette score is: 0.053572\n"
     ]
    },
    {
     "data": {
      "text/plain": [
       "<matplotlib.axes._subplots.AxesSubplot at 0x7f3d6a6597d0>"
      ]
     },
     "execution_count": 67,
     "metadata": {},
     "output_type": "execute_result"
    },
    {
     "data": {
      "image/png": "[encoded data removed]",
      "text/plain": [
       "<matplotlib.figure.Figure at 0x7f3d69760bd0>"
      ]
     },
     "metadata": {},
     "output_type": "display_data"
    }
   ],
   "source": [
    "from sklearn import metrics\n",
    "\n",
    "score_vector = []\n",
    "for i in range (2,20):\n",
    "    kmeans_model = KMeans(n_clusters=i, random_state=1).fit(X)\n",
    "    labels = kmeans_model.labels_\n",
    "    score = metrics.silhouette_score(X, labels, metric='euclidean')\n",
    "    print \"With k = %i, the silhouette score is: %f\" %(i, score)\n",
    "    score_vector.append((i, score))\n",
    "\n",
    "plt.rcParams['figure.figsize'] = 14, 8\n",
    "df = pd.DataFrame(score_vector, columns=['k','Silhouette score'])\n",
    "df.plot(x='k', y='Silhouette score')"
   ]
  },
  {
   "cell_type": "markdown",
   "metadata": {
    "collapsed": true
   },
   "source": [
    "**Optimal value of k=4, since the value of the silhouette score is maximum at that point.**"
   ]
  },
  {
   "cell_type": "code",
   "execution_count": null,
   "metadata": {
    "collapsed": true
   },
   "outputs": [],
   "source": []
  }
 ],
 "metadata": {
  "kernelspec": {
   "display_name": "Python [Root]",
   "language": "python",
   "name": "Python [Root]"
  },
  "language_info": {
   "codemirror_mode": {
    "name": "ipython",
    "version": 2
   },
   "file_extension": ".py",
   "mimetype": "text/x-python",
   "name": "python",
   "nbconvert_exporter": "python",
   "pygments_lexer": "ipython2",
   "version": "2.7.12"
  }
 },
 "nbformat": 4,
 "nbformat_minor": 0
}
